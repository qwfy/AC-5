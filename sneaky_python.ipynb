{
 "cells": [
  {
   "cell_type": "markdown",
   "metadata": {},
   "source": [
    "# Sneaky Python\n",
    "\n",
    "Some Python gotchas and interesting details for functional programmers."
   ]
  },
  {
   "cell_type": "code",
   "execution_count": 1,
   "metadata": {},
   "outputs": [
    {
     "name": "stdout",
     "output_type": "stream",
     "text": [
      "139966298888800 139966298888800 139966298888800\n",
      "<class 'NoneType'>\n"
     ]
    }
   ],
   "source": [
    "# None is the sole *value* of the class NoneType and None == None.\n",
    "a = None\n",
    "b = None\n",
    "assert a == b\n",
    "assert None == None\n",
    "assert a is b\n",
    "assert None is None\n",
    "print(id(a), id(b), id(None))\n",
    "print(type(None))"
   ]
  },
  {
   "cell_type": "code",
   "execution_count": 2,
   "metadata": {},
   "outputs": [],
   "source": [
    "# Interesting (but probably useless) implementation details:\n",
    "a = 'tony'\n",
    "b = 'tony'\n",
    "assert 'tony' is 'tony'\n",
    "assert a is b\n",
    "\n",
    "a = 7\n",
    "b = 7\n",
    "assert 7 is 7\n",
    "assert a is b\n",
    "\n",
    "a = 7.0\n",
    "b = 7.0\n",
    "assert 7.0 is 7.0\n",
    "assert a is not b"
   ]
  },
  {
   "cell_type": "code",
   "execution_count": 3,
   "metadata": {},
   "outputs": [],
   "source": [
    "# = binds to an existing object, it does not create a new copy of it\n",
    "a = 1\n",
    "b = a\n",
    "assert b is a\n",
    "\n",
    "a = (1, 2)\n",
    "b = a\n",
    "assert b is a\n",
    "\n",
    "a = [1, 2]\n",
    "b = a\n",
    "assert b is a\n",
    "\n",
    "# In fact, if you think = as a function, it does different things on different occasions:\n",
    "# a = [] : use a to reference []\n",
    "# b = a : use b to reference the object that a references to\n",
    "# But you can always argue that: a \"deep-references\" the RHS"
   ]
  },
  {
   "cell_type": "code",
   "execution_count": 4,
   "metadata": {},
   "outputs": [
    {
     "name": "stdout",
     "output_type": "stream",
     "text": [
      "[1] [1]\n"
     ]
    }
   ],
   "source": [
    "# Again.\n",
    "a = []\n",
    "b = a\n",
    "b.append(1)\n",
    "print(a, b)\n",
    "assert a == b\n",
    "assert a is b"
   ]
  },
  {
   "cell_type": "code",
   "execution_count": 5,
   "metadata": {},
   "outputs": [
    {
     "name": "stdout",
     "output_type": "stream",
     "text": [
      "('id of x', 139966299036288)\n",
      "('id of y', 139966299036288)\n",
      "1 1\n"
     ]
    }
   ],
   "source": [
    "# Again.\n",
    "# And value of the global x is not copied as the argument of f.\n",
    "def f(x):\n",
    "    y = x\n",
    "    print(('id of y', id(y)))\n",
    "    return y\n",
    "\n",
    "# x is immutable\n",
    "x = 1\n",
    "print(('id of x', id(x)))\n",
    "y = f(x)\n",
    "print(x, y)\n",
    "assert x is y"
   ]
  },
  {
   "cell_type": "code",
   "execution_count": 6,
   "metadata": {},
   "outputs": [
    {
     "name": "stdout",
     "output_type": "stream",
     "text": [
      "('id of x', 139965502669640)\n",
      "('id of y', 139965502669640)\n",
      "[1] [1]\n"
     ]
    }
   ],
   "source": [
    "# Again.\n",
    "def f(x):\n",
    "    y = x\n",
    "    print(('id of y', id(y)))\n",
    "    y.append(1)\n",
    "    return y\n",
    "\n",
    "# x is mutable\n",
    "x = []\n",
    "print(('id of x', id(x)))\n",
    "y = f(x)\n",
    "print(x, y)\n",
    "assert x is y"
   ]
  },
  {
   "cell_type": "code",
   "execution_count": 7,
   "metadata": {},
   "outputs": [
    {
     "name": "stdout",
     "output_type": "stream",
     "text": [
      "('id of      a', 139965513585800)\n",
      "('id of self.a', 139965513585800)\n",
      "[1] [1]\n"
     ]
    }
   ],
   "source": [
    "# Just because it got class, doesn't mean it will make a difference.\n",
    "class C:\n",
    "    def __init__(self, a):\n",
    "        self.a = a\n",
    "        print(('id of self.a', id(self.a)))\n",
    "        self.a.append(1)\n",
    "        \n",
    "a = []\n",
    "print(('id of      a', id(a)))\n",
    "c = C(a)\n",
    "print(a, c.a)\n",
    "assert a is c.a"
   ]
  },
  {
   "cell_type": "code",
   "execution_count": 8,
   "metadata": {},
   "outputs": [
    {
     "name": "stdout",
     "output_type": "stream",
     "text": [
      "(139965502669704, [1])\n",
      "(139965502669704, [1, 1])\n",
      "(139965502669384, [2, 3, 1])\n",
      "(139965502669704, [1, 1, 1])\n"
     ]
    }
   ],
   "source": [
    "# Don't use a mutable object as the default argument\n",
    "# - unless you want to do something like memorization.\n",
    "def f(a=[]):\n",
    "    a.append(1)\n",
    "    return (id(a), a)\n",
    "\n",
    "print(f())\n",
    "print(f())\n",
    "print(f(a=[2, 3]))\n",
    "print(f())"
   ]
  },
  {
   "cell_type": "code",
   "execution_count": 17,
   "metadata": {},
   "outputs": [
    {
     "name": "stdout",
     "output_type": "stream",
     "text": [
      "id of the function being called: 139965513731880\n",
      "id of the function being called: 139965513731880\n",
      "(['evil'], [1], 2) (['evil'], [1], 2)\n"
     ]
    }
   ],
   "source": [
    "# But function-as-default-value seems OK, but I'm not sure about this.\n",
    "evil = []\n",
    "\n",
    "def f():\n",
    "  global evil\n",
    "  return evil\n",
    "\n",
    "f.data = []\n",
    "f.atad = 1\n",
    "\n",
    "def h1(g=f):\n",
    "  print(f'id of the function being called: {id(g)}')\n",
    "  return (g(), g.data, g.atad)\n",
    "\n",
    "f.data.append(1)\n",
    "f.atad = 2\n",
    "\n",
    "def h2(g=None):\n",
    "  if g is None:\n",
    "    g = f\n",
    "  print(f'id of the function being called: {id(g)}')\n",
    "  return (g(), g.data, g.atad)\n",
    "\n",
    "evil.append('evil')\n",
    "print(h1(), h2())"
   ]
  },
  {
   "cell_type": "code",
   "execution_count": 10,
   "metadata": {},
   "outputs": [
    {
     "name": "stdout",
     "output_type": "stream",
     "text": [
      "6\n",
      "8\n"
     ]
    }
   ],
   "source": [
    "# Names in lambdas are looked up when the lambda is called,\n",
    "# pretty acceptable and harmless, right? See the next cell.\n",
    "try:\n",
    "    del c\n",
    "except:\n",
    "    pass\n",
    "f = lambda x: c * x\n",
    "c = 3\n",
    "print(f(2))\n",
    "c = 4\n",
    "print(f(2))"
   ]
  },
  {
   "cell_type": "code",
   "execution_count": 11,
   "metadata": {},
   "outputs": [
    {
     "name": "stdout",
     "output_type": "stream",
     "text": [
      "8\n",
      "8\n",
      "8\n",
      "-\n",
      "4\n",
      "6\n",
      "8\n"
     ]
    }
   ],
   "source": [
    "fs = [lambda x: c * x for c in range(2, 5)]\n",
    "for f in fs:\n",
    "    print(f(2))\n",
    "print('-')\n",
    "fs = [lambda x, c=c: c * x for c in range(2, 5)]\n",
    "for f in fs:\n",
    "    print(f(2))"
   ]
  },
  {
   "cell_type": "code",
   "execution_count": 12,
   "metadata": {},
   "outputs": [],
   "source": [
    "import numpy as np"
   ]
  },
  {
   "cell_type": "code",
   "execution_count": 13,
   "metadata": {},
   "outputs": [
    {
     "name": "stdout",
     "output_type": "stream",
     "text": [
      "139965502696144 139965502696784\n",
      "[[11 12 13]\n",
      " [21 22 23]]\n",
      "[[11 12 13]\n",
      " [21 22 23]]\n",
      "-\n",
      "139965502697184 139965502697184\n",
      "[[ 0 12 13]\n",
      " [21 22 23]]\n",
      "[[ 0 12 13]\n",
      " [21 22 23]]\n"
     ]
    }
   ],
   "source": [
    "# np.array can be configured to return the same or a different object\n",
    "xs = np.array([[11, 12, 13], [21, 22, 23]])\n",
    "ys = np.array(xs, copy=True)\n",
    "print(id(xs), id(ys))\n",
    "print(xs)\n",
    "print(ys)\n",
    "\n",
    "print('-')\n",
    "\n",
    "xs = np.array([[11, 12, 13], [21, 22, 23]])\n",
    "ys = np.array(xs, copy=False)\n",
    "print(id(xs), id(ys))\n",
    "xs[0, 0] = 0\n",
    "print(xs)\n",
    "print(ys)"
   ]
  },
  {
   "cell_type": "code",
   "execution_count": 14,
   "metadata": {},
   "outputs": [
    {
     "name": "stdout",
     "output_type": "stream",
     "text": [
      "[[11 12 13]\n",
      " [21 22 23]]\n",
      "[11 12 13]\n",
      "-\n",
      "[[ 0 12 13]\n",
      " [21 22 23]]\n",
      "[ 0 12 13]\n",
      "-\n",
      "[[ 0 12 13]\n",
      " [21 22 23]]\n",
      "[ 0 12 13]\n"
     ]
    }
   ],
   "source": [
    "# Slicing references to the original array\n",
    "xs = np.array([[11, 12, 13], [21, 22, 23]])\n",
    "ys = xs[0]\n",
    "print(xs)\n",
    "print(ys)\n",
    "print('-')\n",
    "\n",
    "# changing the slice changes the original\n",
    "ys[0] = 0\n",
    "print(xs)\n",
    "print(ys)\n",
    "print('-')\n",
    "\n",
    "# changing the original changes the slice\n",
    "xs = np.array([[11, 12, 13], [21, 22, 23]])\n",
    "ys = xs[0]\n",
    "xs[0, 0] = 0\n",
    "print(xs)\n",
    "print(ys)"
   ]
  },
  {
   "cell_type": "code",
   "execution_count": 15,
   "metadata": {},
   "outputs": [],
   "source": [
    "# To be continued"
   ]
  }
 ],
 "metadata": {
  "kernelspec": {
   "display_name": "Python 3",
   "language": "python",
   "name": "python3"
  },
  "language_info": {
   "codemirror_mode": {
    "name": "ipython",
    "version": 3
   },
   "file_extension": ".py",
   "mimetype": "text/x-python",
   "name": "python",
   "nbconvert_exporter": "python",
   "pygments_lexer": "ipython3",
   "version": "3.6.5"
  }
 },
 "nbformat": 4,
 "nbformat_minor": 2
}
